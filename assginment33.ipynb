{
 "cells": [
  {
   "cell_type": "markdown",
   "id": "7fc78996-4ce0-4883-8854-f9a1f50ad083",
   "metadata": {},
   "source": [
    "For loop \n",
    "Assignment Quetsions"
   ]
  },
  {
   "cell_type": "markdown",
   "id": "dd4990ed-bcac-4343-80f1-bd4f58722dc1",
   "metadata": {},
   "source": [
    "Basic level:"
   ]
  },
  {
   "cell_type": "markdown",
   "id": "adef6964-5df2-4a8b-baa0-0327e9afe1e3",
   "metadata": {},
   "source": [
    "1. Write a python program to print......"
   ]
  },
  {
   "cell_type": "code",
   "execution_count": 2,
   "id": "a10dd671-ebc4-4814-9cfe-d1118bdf9277",
   "metadata": {},
   "outputs": [
    {
     "name": "stdout",
     "output_type": "stream",
     "text": [
      "numbers: 1\n",
      "numbers: 2\n",
      "numbers: 3\n",
      "numbers: 4\n",
      "numbers: 5\n",
      "numbers: 6\n",
      "numbers: 7\n",
      "numbers: 8\n",
      "numbers: 9\n",
      "numbers: 10\n"
     ]
    }
   ],
   "source": [
    "#it is done simple by setting range 1 to 11 so that they can eaily print from 1 to n-1\n",
    "for i in range(1,11):\n",
    "    print(\"number:\",i)"
   ]
  },
  {
   "cell_type": "markdown",
   "id": "75794545-9cbc-4cd8-95a8-e1ca90392c33",
   "metadata": {},
   "source": [
    "2. create a program that calculates the sum....."
   ]
  },
  {
   "cell_type": "code",
   "execution_count": 4,
   "id": "1f6ce9a4-6065-43fb-b5b3-c721c20165ac",
   "metadata": {},
   "outputs": [
    {
     "name": "stdout",
     "output_type": "stream",
     "text": [
      "The sum of list : 25\n"
     ]
    }
   ],
   "source": [
    "l=[1,3,5,7,9]\n",
    "# here intilize sum with zero..\n",
    "sum=0\n",
    "for i in l:\n",
    "    sum=sum+i\n",
    "print(\"The sum of list :\",sum)\n",
    "    \n",
    "    "
   ]
  },
  {
   "cell_type": "markdown",
   "id": "3a0a18b3-87f0-4404-866a-8370b193b244",
   "metadata": {},
   "source": [
    "3.write a program to print the character....."
   ]
  },
  {
   "cell_type": "code",
   "execution_count": 9,
   "id": "b6922924-ef9a-4387-b622-22d9f36354fb",
   "metadata": {},
   "outputs": [
    {
     "name": "stdout",
     "output_type": "stream",
     "text": [
      "l\n",
      "l\n",
      "i\n",
      "k\n",
      "s\n",
      "w\n",
      "p\n"
     ]
    }
   ],
   "source": [
    "s=\"pwskill\"\n",
    "r=s[::-1]\n",
    "for i in r:\n",
    "    # now we are able to directly print the string in the reverse order \n",
    "    print(i)"
   ]
  },
  {
   "cell_type": "markdown",
   "id": "9c532614-ce67-4c64-aac6-bea72d561757",
   "metadata": {},
   "source": [
    "4.Develop th program to finds the factorial ....."
   ]
  },
  {
   "cell_type": "code",
   "execution_count": 14,
   "id": "5c712567-061d-46b9-9b89-d8719959f596",
   "metadata": {},
   "outputs": [
    {
     "name": "stdin",
     "output_type": "stream",
     "text": [
      "enter the number: 5\n"
     ]
    },
    {
     "name": "stdout",
     "output_type": "stream",
     "text": [
      "120\n"
     ]
    }
   ],
   "source": [
    "n=int(input(\"enter the number:\"))\n",
    "fact=1\n",
    "if n==0:\n",
    "    print(\"the factorial of number is 1\")\n",
    "else:\n",
    "    for i in range(1,n+1):\n",
    "        fact=fact*i\n",
    "    print(fact)\n",
    "    "
   ]
  },
  {
   "cell_type": "markdown",
   "id": "d2e6a0d9-f752-458c-b661-15951db31254",
   "metadata": {},
   "source": [
    "5.create a prgram to print the multiplication...."
   ]
  },
  {
   "cell_type": "code",
   "execution_count": 19,
   "id": "b98c2260-9057-4904-948c-4097d552d17e",
   "metadata": {},
   "outputs": [
    {
     "name": "stdin",
     "output_type": "stream",
     "text": [
      "Enter the number whoes multipliaction u want to find: 10\n"
     ]
    },
    {
     "name": "stdout",
     "output_type": "stream",
     "text": [
      "10 * 1 = 10\n",
      "10 * 2 = 20\n",
      "10 * 3 = 30\n",
      "10 * 4 = 40\n",
      "10 * 5 = 50\n",
      "10 * 6 = 60\n",
      "10 * 7 = 70\n",
      "10 * 8 = 80\n",
      "10 * 9 = 90\n",
      "10 * 10 = 100\n"
     ]
    }
   ],
   "source": [
    "n=int(input(\"Enter the number whoes multipliaction u want to find:\"))\n",
    "for i in range(1,11):\n",
    "    # this done  with the help of very easy way just by storing the value..\n",
    "    mult=n*i\n",
    "    print(n,\"*\",i,\"=\",mult)"
   ]
  },
  {
   "cell_type": "markdown",
   "id": "4d5d48da-8527-4987-afb1-049408e5bd47",
   "metadata": {},
   "source": [
    "6. write the program to count the number......"
   ]
  },
  {
   "cell_type": "code",
   "execution_count": 5,
   "id": "29b2d8d3-c782-435b-9e3e-ccad35ed756f",
   "metadata": {},
   "outputs": [
    {
     "name": "stdout",
     "output_type": "stream",
     "text": [
      "total number of even in list: 4\n",
      "total number of odd in list: 4\n"
     ]
    }
   ],
   "source": [
    "# here first we have to make list...\n",
    "l=[1,3,4,6,5,8,9,2]\n",
    "even=0\n",
    "odd=0\n",
    "for i in l:\n",
    "    if i%2==0:\n",
    "        even=even+1\n",
    "    else:\n",
    "        odd=odd+1\n",
    "print(\"total number of even in list:\",even)\n",
    "print(\"total number of odd in list:\",odd)\n",
    "            \n"
   ]
  },
  {
   "cell_type": "markdown",
   "id": "7093c2b6-581a-4916-9941-a807761f4297",
   "metadata": {},
   "source": [
    "7.Develop the program that print the square of numbers from 1 to 5....."
   ]
  },
  {
   "cell_type": "code",
   "execution_count": 6,
   "id": "22181173-a10e-451d-a588-b04a80c9ff4e",
   "metadata": {},
   "outputs": [
    {
     "name": "stdout",
     "output_type": "stream",
     "text": [
      "1 squr of number 1\n",
      "2 squr of number 4\n",
      "3 squr of number 9\n",
      "4 squr of number 16\n",
      "5 squr of number 25\n"
     ]
    }
   ],
   "source": [
    "#make variable to store value \n",
    "\n",
    "for i in range(1,6):\n",
    "    # easily done by storing number value in one varible \n",
    "    squr=i*i\n",
    "    print(i,\"squr of number\",squr)\n"
   ]
  },
  {
   "cell_type": "markdown",
   "id": "8663c10b-ab06-4793-9a84-db236f0f8a09",
   "metadata": {},
   "source": [
    "8.Create a Program to find the length of string without using....."
   ]
  },
  {
   "cell_type": "code",
   "execution_count": 8,
   "id": "8512f5a0-e2c2-4830-b5ea-5c779831aea1",
   "metadata": {},
   "outputs": [
    {
     "name": "stdin",
     "output_type": "stream",
     "text": [
      "Enter the string: PWSKILLS\n"
     ]
    },
    {
     "name": "stdout",
     "output_type": "stream",
     "text": [
      "Total length of string is: 8\n"
     ]
    }
   ],
   "source": [
    "s=input(\"Enter the string:\")\n",
    "# count is created here which is used to store each single value and at the end they show otal lenth of string\n",
    "count=0\n",
    "for i in s:\n",
    "    count=count+1\n",
    "print(\"Total length of string is:\",count)\n",
    "    "
   ]
  },
  {
   "cell_type": "markdown",
   "id": "01ca772f-3544-4e37-8054-b4b3963848be",
   "metadata": {},
   "source": [
    "9.write the program that calculate the average of a list....."
   ]
  },
  {
   "cell_type": "code",
   "execution_count": 10,
   "id": "2d49bb97-2ad8-4b53-af00-926a2a94397b",
   "metadata": {},
   "outputs": [
    {
     "name": "stdout",
     "output_type": "stream",
     "text": [
      "sum of number 19 total number in list 5 average of list: 3.8\n"
     ]
    }
   ],
   "source": [
    "# first we need to make list\n",
    "l=[1,4,6,3,5]\n",
    "add=0\n",
    "count=0\n",
    "for i in l:\n",
    "    add=add+i\n",
    "    count=count+1\n",
    "    avg=add/count\n",
    "print(\"sum of number\",add,\n",
    "      \"total number in list\",count,\n",
    "      'average of list:',avg)\n"
   ]
  },
  {
   "cell_type": "markdown",
   "id": "7dc335f2-ac81-4ad5-9d52-0fcdacd305e8",
   "metadata": {},
   "source": [
    "10. Develop a program that printthe frist 'n' Fibonacci numbers using a for..."
   ]
  },
  {
   "cell_type": "code",
   "execution_count": 14,
   "id": "d8cd2829-62f2-4767-8368-73b78c2dd33a",
   "metadata": {},
   "outputs": [
    {
     "name": "stdin",
     "output_type": "stream",
     "text": [
      "enter the number 12\n"
     ]
    },
    {
     "name": "stdout",
     "output_type": "stream",
     "text": [
      "0 1 1 2 3 5 8 13 21 34 55 89 144 233 "
     ]
    }
   ],
   "source": [
    "n=int(input(\"enter the number\"))\n",
    "a=0 \n",
    "b=1 \n",
    "print(a,b,end=' ')\n",
    "for i in range(n):\n",
    "            c=a+b\n",
    "            print(c,end=' ')\n",
    "            # now we have to swap the value\n",
    "            a=b\n",
    "            b=c"
   ]
  },
  {
   "cell_type": "markdown",
   "id": "17c29596-3b23-4ccf-bed4-ab45f1de4003",
   "metadata": {},
   "source": [
    "Intermediate level:"
   ]
  },
  {
   "cell_type": "markdown",
   "id": "dcf9d843-bdbc-42a7-b6d4-9e9793eca1a6",
   "metadata": {},
   "source": [
    "11.write a program to check if a given list...."
   ]
  },
  {
   "cell_type": "code",
   "execution_count": 17,
   "id": "d0022562-c480-4b06-bf5e-e961693e4cad",
   "metadata": {},
   "outputs": [
    {
     "name": "stdout",
     "output_type": "stream",
     "text": [
      "[3, 2]\n"
     ]
    }
   ],
   "source": [
    "l=[1,2,3,8,7,6,5,3,2]\n",
    "list_unique=[]\n",
    "list_duplicate=[]\n",
    "for i in l:\n",
    "    # now we  by using not in we are able to find whter it is in it or not\n",
    "    if i not in list_unique:\n",
    "        list_unique.append(i)\n",
    "    elif i not in list_duplicate:\n",
    "        list_duplicate.append(i)\n",
    "print(list_duplicate)\n",
    "        "
   ]
  },
  {
   "cell_type": "markdown",
   "id": "07f83208-22f2-48e7-b4d6-acda4bac504b",
   "metadata": {},
   "source": [
    "12. Create a program that print the prime number...."
   ]
  },
  {
   "cell_type": "code",
   "execution_count": 38,
   "id": "61c9ad77-e1d9-4876-9f59-447c8a80f590",
   "metadata": {},
   "outputs": [
    {
     "name": "stdin",
     "output_type": "stream",
     "text": [
      "enter the number  4\n"
     ]
    },
    {
     "name": "stdout",
     "output_type": "stream",
     "text": [
      "number is not prime: 4\n"
     ]
    }
   ],
   "source": [
    "# frist we need number\n",
    "n=int(input(\"enter the number \"))\n",
    "for i in range (2,n):\n",
    "    if (n%i==0):\n",
    "        print(\"number is not prime:\",n)\n",
    "        break\n",
    "    else:\n",
    "        print(\"number is prime:\",n)"
   ]
  },
  {
   "cell_type": "markdown",
   "id": "5b2de853-90f5-4df2-9226-7bbedaf3846d",
   "metadata": {},
   "source": [
    "13. Develop a program that count the numbers of vowels in a string using a ...."
   ]
  },
  {
   "cell_type": "code",
   "execution_count": 52,
   "id": "39a8e0aa-38bb-4069-bb6d-1a5533836676",
   "metadata": {},
   "outputs": [
    {
     "name": "stdout",
     "output_type": "stream",
     "text": [
      "total number of vowels are: 6\n"
     ]
    }
   ],
   "source": [
    "#here we first make random string\n",
    "s=\"pwskiiaeeolls\"\n",
    "#here we first make vowel contain\n",
    "l=['a','e','i','o','u']\n",
    "#first we need to set  the value for ount zero\n",
    "count=0\n",
    "# here we check that i is contain string char\n",
    "for i in s:\n",
    "    if i in l:\n",
    "        count=count+1\n",
    "print(\"total number of vowels are:\",count)"
   ]
  },
  {
   "cell_type": "markdown",
   "id": "11cb70b6-95d7-4403-8c9f-3fbdf7eaa5d9",
   "metadata": {},
   "source": [
    "14.Write a program to find the maximum all element in 2d list"
   ]
  },
  {
   "cell_type": "code",
   "execution_count": 1,
   "id": "64093662-36be-450e-9a58-608187d91eb0",
   "metadata": {},
   "outputs": [
    {
     "name": "stdout",
     "output_type": "stream",
     "text": [
      "The maximum element in the 2D list is: 89\n"
     ]
    }
   ],
   "source": [
    "def find_max_2d(arr):\n",
    "    max_element = arr[0][0]\n",
    "    for row in arr:\n",
    "        for element in row:\n",
    "            if element > max_element:\n",
    "                max_element = element\n",
    "\n",
    "    return max_element\n",
    "two_d_list = [\n",
    "    [23, 56, 12],\n",
    "    [67, 45, 89],\n",
    "    [10, 5, 36]\n",
    "]\n",
    "max_value = find_max_2d(two_d_list)\n",
    "print(\"The maximum element in the 2D list is:\", max_value)"
   ]
  },
  {
   "cell_type": "markdown",
   "id": "ddcbcc63-3a29-43b5-92bf-86974d9b732d",
   "metadata": {},
   "source": [
    "15.create aprogra to remove all occurance in specific prgram....."
   ]
  },
  {
   "cell_type": "code",
   "execution_count": 1,
   "id": "579515cf-3200-4903-bac2-01d9d306ca09",
   "metadata": {},
   "outputs": [
    {
     "name": "stdout",
     "output_type": "stream",
     "text": [
      "[10, 20, 40, 50, 40, 30, 40]\n",
      "list after remove all occurance of elements [10, 20, 50, 30]\n"
     ]
    }
   ],
   "source": [
    "list=[10,20,40,50,40,30,40]\n",
    "# number want to removed\n",
    "n=40\n",
    "print(list)\n",
    "for i in list:\n",
    "    if i==n:\n",
    "        list.remove(i)\n",
    "print(\"list after remove all occurance of elements\",list)"
   ]
  },
  {
   "cell_type": "markdown",
   "id": "b3334742-6676-4f80-a84f-f5033db48d99",
   "metadata": {},
   "source": [
    "16.Develop the a program that grenrate  a multiplication table....."
   ]
  },
  {
   "cell_type": "code",
   "execution_count": 6,
   "id": "732c6c39-e0fb-4920-bc70-7f9da3c8693e",
   "metadata": {},
   "outputs": [
    {
     "name": "stdout",
     "output_type": "stream",
     "text": [
      "1 * 1 = 1\n",
      "1 * 2 = 2\n",
      "1 * 3 = 3\n",
      "1 * 4 = 4\n",
      "1 * 5 = 5\n",
      "1 * 6 = 6\n",
      "1 * 7 = 7\n",
      "1 * 8 = 8\n",
      "1 * 9 = 9\n",
      "1 * 10 = 10\n",
      "2 * 1 = 2\n",
      "2 * 2 = 4\n",
      "2 * 3 = 6\n",
      "2 * 4 = 8\n",
      "2 * 5 = 10\n",
      "2 * 6 = 12\n",
      "2 * 7 = 14\n",
      "2 * 8 = 16\n",
      "2 * 9 = 18\n",
      "2 * 10 = 20\n",
      "3 * 1 = 3\n",
      "3 * 2 = 6\n",
      "3 * 3 = 9\n",
      "3 * 4 = 12\n",
      "3 * 5 = 15\n",
      "3 * 6 = 18\n",
      "3 * 7 = 21\n",
      "3 * 8 = 24\n",
      "3 * 9 = 27\n",
      "3 * 10 = 30\n",
      "4 * 1 = 4\n",
      "4 * 2 = 8\n",
      "4 * 3 = 12\n",
      "4 * 4 = 16\n",
      "4 * 5 = 20\n",
      "4 * 6 = 24\n",
      "4 * 7 = 28\n",
      "4 * 8 = 32\n",
      "4 * 9 = 36\n",
      "4 * 10 = 40\n",
      "5 * 1 = 5\n",
      "5 * 2 = 10\n",
      "5 * 3 = 15\n",
      "5 * 4 = 20\n",
      "5 * 5 = 25\n",
      "5 * 6 = 30\n",
      "5 * 7 = 35\n",
      "5 * 8 = 40\n",
      "5 * 9 = 45\n",
      "5 * 10 = 50\n"
     ]
    }
   ],
   "source": [
    "for i in range(1,6):\n",
    "    for j in range(1,11):\n",
    "        mult=i*j\n",
    "        print(i,\"*\",j,\"=\",mult)\n"
   ]
  },
  {
   "cell_type": "markdown",
   "id": "0e8e0b07-a24b-4432-8eb3-c4e8c64cfa2a",
   "metadata": {},
   "source": [
    "17. write a program to convert faherenheit...."
   ]
  },
  {
   "cell_type": "code",
   "execution_count": 10,
   "id": "eb6098a3-9c60-4c5b-be18-cc9cf9750506",
   "metadata": {},
   "outputs": [
    {
     "name": "stdout",
     "output_type": "stream",
     "text": [
      "temp convert faherenheit to celsius: 0.0\n",
      "temp convert faherenheit to celsius: 21.11111111111111\n",
      "temp convert faherenheit to celsius: 36.666666666666664\n",
      "temp convert faherenheit to celsius: 100.0\n"
     ]
    }
   ],
   "source": [
    "# first we need to give list\n",
    "fah=[32,70,98,212]\n",
    "for i in fah:\n",
    "    celsius=(i-32)*5/9\n",
    "    print(\"temp convert faherenheit to celsius:\",celsius)"
   ]
  },
  {
   "cell_type": "markdown",
   "id": "e9701734-6333-4dfa-9af5-c661be093cf5",
   "metadata": {},
   "source": [
    "18.Create a program to print the common elements from two lists using a for loop."
   ]
  },
  {
   "cell_type": "code",
   "execution_count": 25,
   "id": "b3c4436a-91c6-45ed-bd72-4b6e5e4a428c",
   "metadata": {},
   "outputs": [
    {
     "name": "stdout",
     "output_type": "stream",
     "text": [
      "[10, 20, 30]\n"
     ]
    }
   ],
   "source": [
    "# first need to make two lists\n",
    "list_one = [5, 10, 15, 20, 25, 30]\n",
    "list_two = [10, 20, 30, 40, 50, 60]\n",
    "common_list = [c for c in list_one if c in list_two]\n",
    "print(common_list)\n",
    " "
   ]
  },
  {
   "cell_type": "markdown",
   "id": "72045698-450e-4cb5-bed5-03a907f65ba9",
   "metadata": {},
   "source": [
    "19.Develop a program that print....."
   ]
  },
  {
   "cell_type": "code",
   "execution_count": 26,
   "id": "032ad8fe-924a-411c-891e-6bcd6882449a",
   "metadata": {},
   "outputs": [
    {
     "name": "stdin",
     "output_type": "stream",
     "text": [
      "Enter row number: 5\n"
     ]
    },
    {
     "name": "stdout",
     "output_type": "stream",
     "text": [
      "*  \n",
      "* *  \n",
      "* * *  \n",
      "* * * *  \n",
      "* * * * *  \n"
     ]
    }
   ],
   "source": [
    "x=int(input(\"Enter row number:\"))\n",
    "for i in range(x):\n",
    "    for j in range(i+1):\n",
    "        print(\"*\",end=\" \")\n",
    "    print(\" \")"
   ]
  },
  {
   "cell_type": "markdown",
   "id": "a1fa6587-0c45-4f30-8038-8037021120ae",
   "metadata": {},
   "source": [
    "20.write a program to find the greatest...."
   ]
  },
  {
   "cell_type": "code",
   "execution_count": 2,
   "id": "de36abb5-6d93-469d-ade2-b42333cf63a2",
   "metadata": {},
   "outputs": [
    {
     "name": "stdin",
     "output_type": "stream",
     "text": [
      "Enter the first number:  24\n",
      "Enter the second number:  12\n"
     ]
    },
    {
     "name": "stdout",
     "output_type": "stream",
     "text": [
      "The GCD of 24 and 12 is 12\n"
     ]
    }
   ],
   "source": [
    "def find_gcd(a, b):\n",
    "    if a < b:\n",
    "        smaller = a\n",
    "    else:\n",
    "        smaller = b\n",
    "\n",
    "    for i in range(1, smaller + 1):\n",
    "        if (a % i == 0) and (b % i == 0):\n",
    "            gcd = i\n",
    "    return gcd\n",
    "# Input two numbers\n",
    "num1 = int(input(\"Enter the first number: \"))\n",
    "num2 = int(input(\"Enter the second number: \"))\n",
    "# Calculate and display the GCD\n",
    "gcd = find_gcd(num1, num2)\n",
    "print(\"The GCD of\", num1, \"and\", num2, \"is\", gcd)\n"
   ]
  },
  {
   "cell_type": "markdown",
   "id": "1b531dd0-beac-4664-8728-9cf7775466dc",
   "metadata": {},
   "source": [
    "21.create a program....."
   ]
  },
  {
   "cell_type": "code",
   "execution_count": 50,
   "id": "411ab99b-3aac-42f7-bd14-00fb5cdff528",
   "metadata": {},
   "outputs": [
    {
     "name": "stdout",
     "output_type": "stream",
     "text": [
      "[3, 7, 11, 15]\n"
     ]
    }
   ],
   "source": [
    "list1=[12,34,56,78]\n",
    "list2=[]\n",
    "for i in list1:\n",
    "    sum=0\n",
    "    for j in str(i):\n",
    "        sum=sum+int(j)\n",
    "    list2.append(sum)\n",
    "print(list2)"
   ]
  },
  {
   "cell_type": "markdown",
   "id": "e51f13e8-5bc1-4a29-88a9-611410394786",
   "metadata": {},
   "source": [
    "22. write a program to find prime factors ....."
   ]
  },
  {
   "cell_type": "code",
   "execution_count": 54,
   "id": "eb827e8a-9f57-4bf5-a411-cb60aaf65180",
   "metadata": {},
   "outputs": [
    {
     "name": "stdin",
     "output_type": "stream",
     "text": [
      "enter the number  12\n"
     ]
    },
    {
     "name": "stdout",
     "output_type": "stream",
     "text": [
      "number is not prime: 12\n",
      "throught list compheresion: [2, 3, 5, 7, 11]\n"
     ]
    }
   ],
   "source": [
    "#here first we need to find factors of given number using for loop\n",
    "n=int(input(\"enter the number \"))\n",
    "for i in range (2,n):\n",
    "    if (n%i==0):\n",
    "        print(\"number is not prime:\",n)\n",
    "        break\n",
    "    else:\n",
    "        print(\"number is prime:\",n)\n",
    "#here we need to find prime factors of given number using list comphe..\n",
    "prime = [i for i in range(2, n) if all(i % j != 0 for j in range(2, i))]\n",
    "print(\"throught list compheresion:\",prime)\n",
    "\n"
   ]
  },
  {
   "cell_type": "markdown",
   "id": "c1241ac5-fb81-4b0e-bacf-4b9ef6ab2150",
   "metadata": {},
   "source": [
    "23.Develop a program that extract unique elemnts....."
   ]
  },
  {
   "cell_type": "code",
   "execution_count": 61,
   "id": "be3c580e-8e2c-4781-ad23-e4f3d2c5672e",
   "metadata": {},
   "outputs": [
    {
     "name": "stdout",
     "output_type": "stream",
     "text": [
      "[12, 24, 35, 45]\n"
     ]
    }
   ],
   "source": [
    "states = [12,24,35,12,45]\n",
    "unique_states = []\n",
    "[unique_states.append(state) for state in states if state not in unique_states]\n",
    "print(unique_states)"
   ]
  },
  {
   "cell_type": "markdown",
   "id": "17f0f5fd-1222-4d73-a4df-49c6fe3236c3",
   "metadata": {},
   "source": [
    "24.Create a program that genrate list of palindromic....."
   ]
  },
  {
   "cell_type": "code",
   "execution_count": 15,
   "id": "7fca44a2-00db-40d3-880c-76b8bcb240bc",
   "metadata": {},
   "outputs": [
    {
     "name": "stdout",
     "output_type": "stream",
     "text": [
      "[1, 2, 3, 4, 5, 6, 7, 8, 9, 11, 22, 33, 44, 55, 66, 77, 88, 99, 101, 111, 121, 131, 141, 151, 161, 171, 181, 191, 202, 212, 222, 232, 242, 252, 262, 272, 282, 292, 303, 313, 323, 333, 343, 353, 363, 373, 383, 393, 404, 414, 424, 434, 444, 454, 464, 474, 484, 494, 505, 515, 525, 535, 545, 555, 565, 575, 585, 595, 606, 616, 626, 636, 646, 656, 666, 676, 686, 696, 707, 717, 727, 737, 747, 757, 767, 777, 787, 797, 808, 818, 828, 838, 848, 858, 868, 878, 888, 898, 909, 919, 929, 939, 949, 959, 969, 979, 989, 999]\n"
     ]
    }
   ],
   "source": [
    "def is_palindrome(number):\n",
    "    return str(number)==str(number)[::-1]\n",
    "def genrate_palindromic_numbers(limit):\n",
    "    palindromic_numbers=[num for num in range(1,limit+1)if is_palindrome(num)]\n",
    "    return palindromic_numbers\n",
    "limit=1000\n",
    "palindromic_number=genrate_palindromic_numbers(limit)\n",
    "print(palindromic_number)"
   ]
  },
  {
   "cell_type": "markdown",
   "id": "20b104d6-6686-45e9-a055-cb939b96daa4",
   "metadata": {},
   "source": [
    "25.write a program to faltten a nested...."
   ]
  },
  {
   "cell_type": "code",
   "execution_count": 62,
   "id": "c0415c30-c6c2-466d-9c31-86cbed274971",
   "metadata": {},
   "outputs": [
    {
     "name": "stdout",
     "output_type": "stream",
     "text": [
      "[1, 2, 3, 4, 5, 6, 7]\n"
     ]
    }
   ],
   "source": [
    "my_list = [[1], [2, 3], [4, 5, 6, 7]]\n",
    "\n",
    "flat_list = [num for sublist in my_list for num in sublist]\n",
    "print(flat_list)\n"
   ]
  },
  {
   "cell_type": "markdown",
   "id": "29b16b2c-907a-4144-8a8f-5acef5ebe167",
   "metadata": {},
   "source": [
    "26.Develop program that computes the sum of even and odd number..."
   ]
  },
  {
   "cell_type": "code",
   "execution_count": 20,
   "id": "d4a00142-eb9c-4fa3-8524-568c92f56bfd",
   "metadata": {},
   "outputs": [
    {
     "name": "stdout",
     "output_type": "stream",
     "text": [
      "sum of even list using list comprehension: 22\n",
      "sum of odd list using list comprehension: 39\n"
     ]
    }
   ],
   "source": [
    "l=[10,23,4,7,9,8]\n",
    "count1=0\n",
    "count2=0\n",
    "list_even=[ count1:=count1+i for i in l if i%2==0 ]\n",
    "list_odd=[ count2:=count2+i for i in l if i%2!=0]\n",
    "print(\"sum of even list using list comprehension:\",count1)\n",
    "print(\"sum of odd list using list comprehension:\",count2)"
   ]
  },
  {
   "cell_type": "markdown",
   "id": "35d6e5ad-8ed4-4c63-8cbd-6c73d964d81b",
   "metadata": {},
   "source": [
    "27.create list program that genrates a list of squares....."
   ]
  },
  {
   "cell_type": "code",
   "execution_count": 22,
   "id": "bfee9a73-59e8-4287-8fe6-0d33d858a277",
   "metadata": {},
   "outputs": [
    {
     "name": "stdout",
     "output_type": "stream",
     "text": [
      "squares of odd number from list: [1, 9, 25, 49, 81]\n"
     ]
    }
   ],
   "source": [
    "# here frist we nedd to set range then apply condition to check number is odd or even then after \n",
    "#we need ....create square of number\n",
    "list_odd=[i*i for i in range(1,10) if i%2!=0]\n",
    "print(\"squares of odd number from list:\",list_odd)"
   ]
  },
  {
   "cell_type": "markdown",
   "id": "762215f6-8d54-4336-832c-afad3249a799",
   "metadata": {},
   "source": [
    "28. Write a program that combines two lists into dictionary using list ...."
   ]
  },
  {
   "cell_type": "code",
   "execution_count": 24,
   "id": "ef23c168-f6db-4973-b243-17ce888a40f2",
   "metadata": {},
   "outputs": [
    {
     "name": "stdout",
     "output_type": "stream",
     "text": [
      "{'a': 3, 'b': 5, 'c': 7, 'd': 8}\n"
     ]
    }
   ],
   "source": [
    "l1=['a','b','c','d']\n",
    "l2=[3,5,7,8]\n",
    "l={l1:l2 for l1,l2 in zip(l1,l2)}\n",
    "print(l)"
   ]
  },
  {
   "cell_type": "markdown",
   "id": "fa0305a4-beac-4614-b15f-866244d9d73d",
   "metadata": {},
   "source": [
    "29.Develop a program that extract the vowels from...."
   ]
  },
  {
   "cell_type": "code",
   "execution_count": 31,
   "id": "e9922472-8542-414b-8a38-a91bf29a3d39",
   "metadata": {},
   "outputs": [
    {
     "name": "stdout",
     "output_type": "stream",
     "text": [
      "The vowels from a string and stores them in list: ['e', 'e', 'i']\n"
     ]
    }
   ],
   "source": [
    "l=['a','e','i','o','u']\n",
    "s=\"peewsills\"\n",
    "c=[i for i in s if i in l]\n",
    "print(\"The vowels from a string and stores them in list:\",c)"
   ]
  },
  {
   "cell_type": "markdown",
   "id": "b316ebb9-0348-467c-a81e-6861fec295d4",
   "metadata": {},
   "source": [
    "30.Create a program that removes ......"
   ]
  },
  {
   "cell_type": "code",
   "execution_count": 36,
   "id": "a76915eb-7acd-423d-a6aa-9f2ae36b7678",
   "metadata": {},
   "outputs": [
    {
     "name": "stdout",
     "output_type": "stream",
     "text": [
      " string after removing all non_numeric characters from a list: ['3', '6']\n"
     ]
    }
   ],
   "source": [
    "s=\"pwe3kil&l6\"\n",
    "c=[  i for i in s if i.isdigit()]\n",
    "print(\" string after removing all non_numeric characters from a list:\",c)"
   ]
  },
  {
   "cell_type": "markdown",
   "id": "5ff54fe2-a45b-4e2f-a75d-f06f78f34bf3",
   "metadata": {},
   "source": [
    "31.Write program to genrates a lists...."
   ]
  },
  {
   "cell_type": "code",
   "execution_count": 12,
   "id": "09f263cf-1078-4d92-a2fe-6731e172655e",
   "metadata": {},
   "outputs": [
    {
     "data": {
      "text/plain": [
       "[2, 3, 5, 7, 11, 13, 17, 19, 23, 29, 31, 37, 41, 43, 47]"
      ]
     },
     "execution_count": 12,
     "metadata": {},
     "output_type": "execute_result"
    }
   ],
   "source": [
    "l = range(2, 50)\n",
    "sorted(set(l).difference(a for i in l for a in l if a!=i and a%i == 0))"
   ]
  },
  {
   "cell_type": "markdown",
   "id": "ec218f72-76cd-4a17-86be-83286d1d35d0",
   "metadata": {},
   "source": [
    "32.create a program that generates a list of all...."
   ]
  },
  {
   "cell_type": "code",
   "execution_count": 39,
   "id": "82e6d2fd-6489-4001-af46-46c27e785f48",
   "metadata": {},
   "outputs": [
    {
     "name": "stdout",
     "output_type": "stream",
     "text": [
      "[(3, 4, 5), (5, 12, 13), (6, 8, 10), (7, 24, 25), (8, 15, 17), (9, 12, 15), (10, 24, 26), (12, 16, 20), (15, 20, 25), (20, 21, 29)]\n"
     ]
    }
   ],
   "source": [
    "pthag = [(x,y,z) for x in range(1,30) for y in range(x,30) for z in range(y,30) if x**2 + y**2 == z**2]\n",
    "# I get that this is the part that calculates the starting point\n",
    "# but why is it this?\n",
    "print(pthag)"
   ]
  },
  {
   "cell_type": "markdown",
   "id": "5c468899-582c-4aa2-bca1-2aafc2841176",
   "metadata": {},
   "source": [
    "33.Develop a program that genrates a list of all....."
   ]
  },
  {
   "cell_type": "code",
   "execution_count": null,
   "id": "d2d2e72c-c5ae-42f2-8b75-43d4097ac260",
   "metadata": {},
   "outputs": [],
   "source": [
    "from itertools import combinations\n",
    "\n",
    "sample_list = ['a', 'b', 'c']\n",
    "list_combinations = list()\n",
    "\n",
    "c=[list_combinations := list_combinations+list(combinations(sample_list, n)) for n in range(len(sample_list) + 1)]\n",
    "\n",
    "\n",
    "print(list_combinations)\n"
   ]
  },
  {
   "cell_type": "markdown",
   "id": "59292ce3-b285-402d-a242-2d5d96bc3e39",
   "metadata": {},
   "source": [
    "34.Write a program that calculates...."
   ]
  },
  {
   "cell_type": "code",
   "execution_count": 49,
   "id": "771a0ccb-ffc1-425d-88df-69d7046ef2da",
   "metadata": {},
   "outputs": [
    {
     "name": "stdout",
     "output_type": "stream",
     "text": [
      "mean of the list numbers: [8.333333333333334]\n"
     ]
    }
   ],
   "source": [
    "list1=[12,13,4,6,7,8]\n",
    "mean=[ m:=sum(list1)/len(list1)]\n",
    "print(\"mean of the list numbers:\",mean)"
   ]
  },
  {
   "cell_type": "markdown",
   "id": "e8a6fea9-5811-492f-b77d-bb26feb573e7",
   "metadata": {},
   "source": [
    "35.Create pascal tringle......"
   ]
  },
  {
   "cell_type": "code",
   "execution_count": 23,
   "id": "5d5f0cba-5b92-4604-ab2e-d6773f500bd2",
   "metadata": {},
   "outputs": [
    {
     "name": "stdout",
     "output_type": "stream",
     "text": [
      "      1 \n",
      "     1 1 \n",
      "    1 2 1 \n",
      "   1 3 3 1 \n",
      "  1 4 6 4 1 \n"
     ]
    }
   ],
   "source": [
    "from math import factorial\n",
    "# input n\n",
    "n = 5\n",
    "for i in range(n):\n",
    "    for j in range(n-i+1):\n",
    "        # for left spacing\n",
    "        print(end=\" \")\n",
    "    for j in range(i+1):\n",
    "        print(factorial(i)//(factorial(j)*factorial(i-j)), end=\" \")\n",
    " \n",
    "    # for new lin\n",
    "    print()"
   ]
  },
  {
   "cell_type": "markdown",
   "id": "9b1fe977-5d29-4a94-8837-4a737a8b032a",
   "metadata": {},
   "source": [
    "\n",
    "36.Develop a program that calculate the sum ...."
   ]
  },
  {
   "cell_type": "code",
   "execution_count": 30,
   "id": "2c1d6e26-5eb6-4a20-bbdc-0bbdef9332aa",
   "metadata": {},
   "outputs": [
    {
     "name": "stdout",
     "output_type": "stream",
     "text": [
      "[1, 1, 2, 6, 12]\n"
     ]
    }
   ],
   "source": [
    "lst = [1] + [i for i in range(1,5)]\n",
    "lst[1:5] = [lst[i-1] * i for i in range(1,5)]\n",
    "print(lst)\n"
   ]
  },
  {
   "cell_type": "markdown",
   "id": "84a56aaf-b17f-445d-bc11-4a603e3771c0",
   "metadata": {},
   "source": [
    "37.write a program that find the longest word in sentance...."
   ]
  },
  {
   "cell_type": "code",
   "execution_count": 34,
   "id": "8e479c13-cf03-46cc-9461-a6ec8fb1d96d",
   "metadata": {},
   "outputs": [
    {
     "name": "stdout",
     "output_type": "stream",
     "text": [
      "['statement']\n"
     ]
    }
   ],
   "source": [
    "s=\"This is my statement\"\n",
    "longest_word_length = max(len(word) for word in s.split())\n",
    "longest_word = [word for word in s.split() if len(word) == longest_word_length]\n",
    "print(longest_word)"
   ]
  },
  {
   "cell_type": "markdown",
   "id": "fd0b9c86-44f4-4f21-ab97-fbb47294d982",
   "metadata": {},
   "source": [
    "38.Create a program filter list....."
   ]
  },
  {
   "cell_type": "code",
   "execution_count": 36,
   "id": "2f56b978-ddf2-4117-8a07-125f42229d8e",
   "metadata": {},
   "outputs": [
    {
     "name": "stdout",
     "output_type": "stream",
     "text": [
      "['guava', 'pineapple', 'mandarin orange']\n"
     ]
    }
   ],
   "source": [
    "import re\n",
    "fruits = [\"mango\", \"kiwi\", \"strawberry\", \"guava\", \"pineapple\", \"mandarin orange\"]\n",
    "results = [i for i in fruits if len(re.sub(r\"[^aeiouAEIOU]\", \"\", i)) > 2]\n",
    "print(results)"
   ]
  },
  {
   "cell_type": "markdown",
   "id": "3b1629df-a0aa-4014-a777-e8e189683fab",
   "metadata": {},
   "source": [
    "39.Develop a program that calculate the sum of the digit of number....."
   ]
  },
  {
   "cell_type": "code",
   "execution_count": 23,
   "id": "95087b18-6cbe-41c9-bdb3-94b8f7de66f6",
   "metadata": {},
   "outputs": [
    {
     "name": "stdout",
     "output_type": "stream",
     "text": [
      " the sum of digit of number 1 to 1000: [13500]\n"
     ]
    }
   ],
   "source": [
    "list2=[]\n",
    "sum=0\n",
    "c=[sum:=sum+int(j) for i in range(1,1000) for j in str(i)]\n",
    "list2.append(sum)\n",
    "print( \" the sum of digit of number 1 to 1000:\",list2)"
   ]
  },
  {
   "cell_type": "markdown",
   "id": "9b1b8252-a4a1-4ac3-b703-b4b32f22a1d5",
   "metadata": {},
   "source": [
    "40.write a program that generates a list of prime ....... "
   ]
  },
  {
   "cell_type": "code",
   "execution_count": 43,
   "id": "737e5ad3-46e7-42ff-83fd-91d32d8b3005",
   "metadata": {},
   "outputs": [
    {
     "name": "stdout",
     "output_type": "stream",
     "text": [
      "2\n",
      "3\n",
      "5\n",
      "7\n",
      "11\n"
     ]
    }
   ],
   "source": [
    "c = [x for x in range(2, 100) if all(x % y != 0 for y in range(2, x))]\n",
    "def palindromeNumbers(c):\n",
    "    # loop till list is not empty\n",
    "    for i in c:\n",
    "        # Find reverse of current number\n",
    "        t = i\n",
    "        rev = 0\n",
    "        while t > 0:\n",
    "            rev = rev * 10 + t % 10\n",
    "            t = t // 10\n",
    " \n",
    "        # compare rev with the current number\n",
    "        if rev == i:\n",
    "            print(i)\n",
    "    \n",
    "palindromeNumbers(c)\n",
    " \n"
   ]
  },
  {
   "cell_type": "code",
   "execution_count": null,
   "id": "db74c19f-60ab-479b-a0de-6b5ceaca7eea",
   "metadata": {},
   "outputs": [],
   "source": []
  },
  {
   "cell_type": "code",
   "execution_count": null,
   "id": "144bf6f6-1e6c-4012-af81-846c883308ac",
   "metadata": {},
   "outputs": [],
   "source": []
  }
 ],
 "metadata": {
  "kernelspec": {
   "display_name": "Python 3 (ipykernel)",
   "language": "python",
   "name": "python3"
  },
  "language_info": {
   "codemirror_mode": {
    "name": "ipython",
    "version": 3
   },
   "file_extension": ".py",
   "mimetype": "text/x-python",
   "name": "python",
   "nbconvert_exporter": "python",
   "pygments_lexer": "ipython3",
   "version": "3.10.8"
  }
 },
 "nbformat": 4,
 "nbformat_minor": 5
}
